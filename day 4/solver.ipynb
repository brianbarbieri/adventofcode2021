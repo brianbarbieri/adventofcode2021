{
 "cells": [
  {
   "cell_type": "code",
   "execution_count": 82,
   "metadata": {},
   "outputs": [],
   "source": [
    "import numpy as np\n",
    "\n",
    "with open(\"data.txt\", \"r\") as r: \n",
    "    data = [p for p in r.readlines()]\n",
    "\n",
    "sequence = [int(p) for p in data[0].split(\",\")]\n",
    "boards = []\n",
    "for i in range(2,len(sequence), 6):\n",
    "    board = [[[int(elem) for elem in row.split(\" \") if elem  != \"\"] for row in data[i:i+5]]]\n",
    "    if len(board[0]) > 0:\n",
    "        boards += board\n",
    "boards = np.array(boards)"
   ]
  },
  {
   "cell_type": "code",
   "execution_count": 94,
   "metadata": {},
   "outputs": [
    {
     "data": {
      "text/plain": [
       "9864"
      ]
     },
     "execution_count": 94,
     "metadata": {},
     "output_type": "execute_result"
    }
   ],
   "source": [
    "# part 1\n",
    "bool_boards = np.full((3, 5, 5), False)\n",
    "for num in sequence:\n",
    "    bool_boards |= (boards == num)\n",
    "    ax_1, ax_2 = bool_boards.sum(axis=1), bool_boards.sum(axis=2)\n",
    "    if (5 in ax_1) | (5 in ax_2):\n",
    "        break\n",
    "num * boards[bool_boards].sum()"
   ]
  },
  {
   "cell_type": "code",
   "execution_count": 106,
   "metadata": {},
   "outputs": [
    {
     "data": {
      "text/plain": [
       "(array([[3, 4, 4, 1, 0],\n",
       "        [2, 3, 2, 3, 2],\n",
       "        [5, 1, 1, 2, 3]]),\n",
       " array([1, 1, 0], dtype=int64))"
      ]
     },
     "execution_count": 106,
     "metadata": {},
     "output_type": "execute_result"
    }
   ],
   "source": [
    "# part 2\n",
    "ax_2, ax_2.argmax(axis=1)"
   ]
  },
  {
   "cell_type": "code",
   "execution_count": 71,
   "metadata": {},
   "outputs": [],
   "source": [
    "test_board = np.full((3, 5, 5), True)"
   ]
  },
  {
   "cell_type": "code",
   "execution_count": 76,
   "metadata": {},
   "outputs": [
    {
     "data": {
      "text/plain": [
       "(array([[5, 5, 5, 5, 5],\n",
       "        [5, 5, 5, 5, 5],\n",
       "        [5, 5, 5, 5, 5]]),\n",
       " array([[5, 5, 5, 5, 5],\n",
       "        [5, 5, 5, 5, 5],\n",
       "        [5, 5, 5, 5, 5]]))"
      ]
     },
     "execution_count": 76,
     "metadata": {},
     "output_type": "execute_result"
    }
   ],
   "source": [
    "test_board.sum(axis=1), test_board.sum(axis=2)"
   ]
  },
  {
   "cell_type": "code",
   "execution_count": null,
   "metadata": {},
   "outputs": [],
   "source": []
  }
 ],
 "metadata": {
  "interpreter": {
   "hash": "958bd200ed2902bb13b7bddf570227b2009cfc246eaf6ee3c2de67e5a93dd42c"
  },
  "kernelspec": {
   "display_name": "Python 3.6.12 64-bit ('maskrcnn': conda)",
   "language": "python",
   "name": "python3"
  },
  "language_info": {
   "codemirror_mode": {
    "name": "ipython",
    "version": 3
   },
   "file_extension": ".py",
   "mimetype": "text/x-python",
   "name": "python",
   "nbconvert_exporter": "python",
   "pygments_lexer": "ipython3",
   "version": "3.6.12"
  },
  "orig_nbformat": 4
 },
 "nbformat": 4,
 "nbformat_minor": 2
}
