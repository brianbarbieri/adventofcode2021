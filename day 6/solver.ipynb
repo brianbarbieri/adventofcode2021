{
 "cells": [
  {
   "cell_type": "code",
   "execution_count": 89,
   "metadata": {},
   "outputs": [],
   "source": [
    "with open(\"data.txt\", \"r\") as r: \n",
    "    initial_states = [int(f) for f in r.readlines()[0].split(\",\")]"
   ]
  },
  {
   "cell_type": "code",
   "execution_count": 90,
   "metadata": {},
   "outputs": [
    {
     "name": "stdout",
     "output_type": "stream",
     "text": [
      "80 353274\n"
     ]
    }
   ],
   "source": [
    "# part 1\n",
    "class Fish:\n",
    "\n",
    "    def __init__(self, state):\n",
    "        self.internal_timer = state\n",
    "\n",
    "    def __repr__(self) -> str:\n",
    "        return f\"{self.internal_timer}\"\n",
    "\n",
    "    def next_day(self):\n",
    "        if self.internal_timer == 0:\n",
    "            self.internal_timer = 7\n",
    "            school.append(Fish(9)) \n",
    "        self.internal_timer -= 1\n",
    "\n",
    "school = [Fish(state) for state in initial_states]\n",
    "for day in range(80):\n",
    "    [f.next_day() for f in school]\n",
    "print(day+1, len(school))"
   ]
  },
  {
   "cell_type": "code",
   "execution_count": 91,
   "metadata": {},
   "outputs": [
    {
     "name": "stdout",
     "output_type": "stream",
     "text": [
      "256 1609314870967\n"
     ]
    }
   ],
   "source": [
    "# part 2, previous solution is far too slow to run for 256 days\n",
    "days = 256\n",
    "        \n",
    "school = {}\n",
    "for state in initial_states:\n",
    "    school[state] = school.get(state, 0) + 1\n",
    "\n",
    "for day in range(days):\n",
    "    new_school = {}\n",
    "    for timer in range(1, 9):\n",
    "        new_school[timer-1] = school.get(timer, 0)\n",
    "\n",
    "    new_school[6] = school.get(0, 0) + new_school.get(6, 0)\n",
    "    new_school[8] = school.get(0, 0)\n",
    "\n",
    "    school = new_school\n",
    "\n",
    "print(days, sum(school.values()))"
   ]
  }
 ],
 "metadata": {
  "interpreter": {
   "hash": "c2ea20c3932c2b20a459633c276e75bdd528f7104c87c8168b0cd952e0eda301"
  },
  "kernelspec": {
   "display_name": "Python 3.7.4 64-bit ('base': conda)",
   "language": "python",
   "name": "python3"
  },
  "language_info": {
   "codemirror_mode": {
    "name": "ipython",
    "version": 3
   },
   "file_extension": ".py",
   "mimetype": "text/x-python",
   "name": "python",
   "nbconvert_exporter": "python",
   "pygments_lexer": "ipython3",
   "version": "3.7.4"
  },
  "orig_nbformat": 4
 },
 "nbformat": 4,
 "nbformat_minor": 2
}
