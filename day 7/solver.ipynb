{
 "cells": [
  {
   "cell_type": "code",
   "execution_count": 75,
   "metadata": {},
   "outputs": [],
   "source": [
    "import numpy as np\n",
    "with open(\"data.txt\", \"r\") as r: \n",
    "    pos = np.array([int(f) for f in r.readlines()[0].split(\",\")])"
   ]
  },
  {
   "cell_type": "code",
   "execution_count": 76,
   "metadata": {},
   "outputs": [
    {
     "data": {
      "text/plain": [
       "344297"
      ]
     },
     "execution_count": 76,
     "metadata": {},
     "output_type": "execute_result"
    }
   ],
   "source": [
    "# part 1\n",
    "opt = {}\n",
    "for i in range(pos.min(), pos.max()+1):\n",
    "    costs = sum(np.abs(pos - np.full(len(pos), i)))\n",
    "    opt[i] = costs\n",
    "opt[min(opt, key=lambda key: opt[key])]"
   ]
  },
  {
   "cell_type": "code",
   "execution_count": 77,
   "metadata": {},
   "outputs": [
    {
     "data": {
      "text/plain": [
       "97164301.0"
      ]
     },
     "execution_count": 77,
     "metadata": {},
     "output_type": "execute_result"
    }
   ],
   "source": [
    "# part 2\n",
    "opt = {}\n",
    "for i in range(pos.min(), pos.max()+1):\n",
    "    lc = np.abs(pos - np.full(len(pos), i))\n",
    "    costs = sum((lc * (lc + 1) / 2))\n",
    "    opt[i] = costs\n",
    "opt[min(opt, key=lambda key: opt[key])]"
   ]
  }
 ],
 "metadata": {
  "interpreter": {
   "hash": "c2ea20c3932c2b20a459633c276e75bdd528f7104c87c8168b0cd952e0eda301"
  },
  "kernelspec": {
   "display_name": "Python 3.7.4 64-bit ('base': conda)",
   "language": "python",
   "name": "python3"
  },
  "language_info": {
   "codemirror_mode": {
    "name": "ipython",
    "version": 3
   },
   "file_extension": ".py",
   "mimetype": "text/x-python",
   "name": "python",
   "nbconvert_exporter": "python",
   "pygments_lexer": "ipython3",
   "version": "3.7.4"
  },
  "orig_nbformat": 4
 },
 "nbformat": 4,
 "nbformat_minor": 2
}
