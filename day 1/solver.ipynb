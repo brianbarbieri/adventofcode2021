{
 "cells": [
  {
   "cell_type": "code",
   "execution_count": 5,
   "metadata": {},
   "outputs": [],
   "source": [
    "import numpy as np\n",
    "\n",
    "with open(\"data.txt\", \"r\") as r: \n",
    "    data = np.array([int(p) for p in r.readlines()])"
   ]
  },
  {
   "cell_type": "code",
   "execution_count": 7,
   "metadata": {},
   "outputs": [
    {
     "name": "stdout",
     "output_type": "stream",
     "text": [
      "3.34 ms ± 94.8 µs per loop (mean ± std. dev. of 7 runs, 100 loops each)\n",
      "17.5 µs ± 637 ns per loop (mean ± std. dev. of 7 runs, 100000 loops each)\n"
     ]
    }
   ],
   "source": [
    "# part 1\n",
    "%timeit sum([data[i] > data[i-1] for i in range(1, len(data))])\n",
    "%timeit (data > np.roll(data, shift=1)).sum()"
   ]
  },
  {
   "cell_type": "code",
   "execution_count": 9,
   "metadata": {},
   "outputs": [
    {
     "name": "stdout",
     "output_type": "stream",
     "text": [
      "6.99 ms ± 42.4 µs per loop (mean ± std. dev. of 7 runs, 100 loops each)\n",
      "31.8 µs ± 1.42 µs per loop (mean ± std. dev. of 7 runs, 10000 loops each)\n"
     ]
    }
   ],
   "source": [
    "# part 2\n",
    "%timeit sum([sum(data[i:i+3]) > sum(data[i-1:i+2]) for i in range(1, len(data))])\n",
    "\n",
    "def ans(data):\n",
    "    roll_sum = np.convolve(data,np.ones(3, dtype=int),'valid')\n",
    "    return (roll_sum > np.roll(roll_sum, shift=1)).sum()\n",
    "\n",
    "%timeit ans(data)"
   ]
  }
 ],
 "metadata": {
  "interpreter": {
   "hash": "958bd200ed2902bb13b7bddf570227b2009cfc246eaf6ee3c2de67e5a93dd42c"
  },
  "kernelspec": {
   "display_name": "Python 3.6.12 64-bit ('maskrcnn': conda)",
   "language": "python",
   "name": "python3"
  },
  "language_info": {
   "codemirror_mode": {
    "name": "ipython",
    "version": 3
   },
   "file_extension": ".py",
   "mimetype": "text/x-python",
   "name": "python",
   "nbconvert_exporter": "python",
   "pygments_lexer": "ipython3",
   "version": "3.6.12"
  },
  "orig_nbformat": 4
 },
 "nbformat": 4,
 "nbformat_minor": 2
}
