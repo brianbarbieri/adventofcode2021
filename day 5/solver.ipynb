{
 "cells": [
  {
   "cell_type": "code",
   "execution_count": 81,
   "metadata": {},
   "outputs": [],
   "source": [
    "import numpy as np\n",
    "from itertools import product\n",
    "\n",
    "with open(\"data.txt\", \"r\") as r: \n",
    "    data = [[[int(k) for k in h.split(\",\")] for h in p.split(\" -> \")] for p in r.readlines()]\n",
    "    data = np.array(data)"
   ]
  },
  {
   "cell_type": "code",
   "execution_count": 82,
   "metadata": {},
   "outputs": [
    {
     "data": {
      "text/plain": [
       "3990"
      ]
     },
     "execution_count": 82,
     "metadata": {},
     "output_type": "execute_result"
    }
   ],
   "source": [
    "# part 1\n",
    "vent_points = []\n",
    "for point in data:\n",
    "    if point[0][0] == point[1][0]:\n",
    "        min_ = min([point[0][1], point[1][1]])\n",
    "        max_ = max([point[0][1], point[1][1]])\n",
    "        new_points = [[point[1][0], i] for i in range(min_, max_+1)]\n",
    "        vent_points += new_points\n",
    "    elif point[0][1] == point[1][1]:\n",
    "        min_ = min([point[0][0], point[1][0]])\n",
    "        max_ = max([point[0][0], point[1][0]])\n",
    "        new_points = [[i, point[1][1]] for i in range(min_, max_+1)]\n",
    "        vent_points += new_points\n",
    "        \n",
    "counter = {}\n",
    "for vp in vent_points:\n",
    "    counter[str(vp)] = counter.get(str(vp), 0) + 1\n",
    "(np.array(list(counter.values())) > 1).sum()"
   ]
  },
  {
   "cell_type": "code",
   "execution_count": 83,
   "metadata": {},
   "outputs": [
    {
     "data": {
      "text/plain": [
       "21305"
      ]
     },
     "execution_count": 83,
     "metadata": {},
     "output_type": "execute_result"
    }
   ],
   "source": [
    "# part 2\n",
    "vent_points = []\n",
    "for point in data:\n",
    "    p1, p2 = point\n",
    "    x1, y1 = p1\n",
    "    x2, y2 = p2\n",
    "    if x1 == x2:\n",
    "        min_ = min([y1, y2])\n",
    "        max_ = max([y1, y2])\n",
    "        new_points = [[x1, i] for i in range(min_, max_+1)]\n",
    "        vent_points += new_points\n",
    "    elif y1 == y2:\n",
    "        min_ = min([x1, x2])\n",
    "        max_ = max([x1, x2])\n",
    "        new_points = [[i, y2] for i in range(min_, max_+1)]\n",
    "        vent_points += new_points\n",
    "    else:\n",
    "        if x1 < x2:\n",
    "            xs = list(range(x1, x2+1))\n",
    "            xs = list(reversed(xs))\n",
    "        else:\n",
    "            xs = list(range(x2, x1+1))\n",
    "        if y1 < y2: \n",
    "            ys = list(range(y1, y2+1))\n",
    "            ys = list(reversed(ys))\n",
    "        else:\n",
    "            ys = list(range(y2, y1+1))\n",
    "        vent_points += list(zip(xs, ys))\n",
    "mx = np.array(vent_points).max()+1\n",
    "map = np.zeros((mx, mx))\n",
    "for p in vent_points:\n",
    "    map[p[0]][p[1]] += 1\n",
    "(map > 1).sum()"
   ]
  }
 ],
 "metadata": {
  "interpreter": {
   "hash": "958bd200ed2902bb13b7bddf570227b2009cfc246eaf6ee3c2de67e5a93dd42c"
  },
  "kernelspec": {
   "display_name": "Python 3.6.12 64-bit ('maskrcnn': conda)",
   "language": "python",
   "name": "python3"
  },
  "language_info": {
   "codemirror_mode": {
    "name": "ipython",
    "version": 3
   },
   "file_extension": ".py",
   "mimetype": "text/x-python",
   "name": "python",
   "nbconvert_exporter": "python",
   "pygments_lexer": "ipython3",
   "version": "3.7.4"
  },
  "orig_nbformat": 4
 },
 "nbformat": 4,
 "nbformat_minor": 2
}
