{
 "cells": [
  {
   "cell_type": "code",
   "execution_count": 101,
   "metadata": {},
   "outputs": [],
   "source": [
    "import numpy as np\n",
    "\n",
    "with open(\"data.txt\", \"r\") as r: \n",
    "    data = [p for p in r.readlines()]\n",
    "\n",
    "sequence = [int(p) for p in data[0].split(\",\")]\n",
    "boards = []\n",
    "for i in range(2,len(data), 6):\n",
    "    board = [[[int(elem) for elem in row.split(\" \") if elem  != \"\"] for row in data[i:i+5]]]\n",
    "    if len(board[0]) > 0:\n",
    "        boards += board\n",
    "boards = np.array(boards)"
   ]
  },
  {
   "cell_type": "code",
   "execution_count": 102,
   "metadata": {},
   "outputs": [
    {
     "data": {
      "text/plain": [
       "87456"
      ]
     },
     "execution_count": 102,
     "metadata": {},
     "output_type": "execute_result"
    }
   ],
   "source": [
    "# part 1\n",
    "bool_boards = np.full(boards.shape, False)\n",
    "for num in sequence:\n",
    "    bool_boards |= (boards == num)\n",
    "    found_bingo = [(5 in board.sum(axis=0)) | (5 in board.sum(axis=1)) for board in bool_boards]\n",
    "    if any(found_bingo):\n",
    "        break\n",
    "winning_board = np.argmax(found_bingo)\n",
    "num * boards[winning_board][~bool_boards[winning_board]].sum()"
   ]
  },
  {
   "cell_type": "code",
   "execution_count": 103,
   "metadata": {},
   "outputs": [
    {
     "data": {
      "text/plain": [
       "15561"
      ]
     },
     "execution_count": 103,
     "metadata": {},
     "output_type": "execute_result"
    }
   ],
   "source": [
    "# part 2\n",
    "bool_boards = np.full(boards.shape, False)\n",
    "for num in sequence:\n",
    "    copy_bools = bool_boards.copy()\n",
    "    bool_boards |= (boards == num)\n",
    "    found_bingo = [(5 in board.sum(axis=0)) | (5 in board.sum(axis=1)) for board in bool_boards]\n",
    "    if all(found_bingo):\n",
    "        last_found_bingo = ([(5 in board.sum(axis=0)) | (5 in board.sum(axis=1)) for board in copy_bools])\n",
    "        break\n",
    "lost_board = np.argmin(last_found_bingo)\n",
    "num * boards[lost_board][~bool_boards[lost_board]].sum()"
   ]
  }
 ],
 "metadata": {
  "interpreter": {
   "hash": "958bd200ed2902bb13b7bddf570227b2009cfc246eaf6ee3c2de67e5a93dd42c"
  },
  "kernelspec": {
   "display_name": "Python 3.6.12 64-bit ('maskrcnn': conda)",
   "language": "python",
   "name": "python3"
  },
  "language_info": {
   "codemirror_mode": {
    "name": "ipython",
    "version": 3
   },
   "file_extension": ".py",
   "mimetype": "text/x-python",
   "name": "python",
   "nbconvert_exporter": "python",
   "pygments_lexer": "ipython3",
   "version": "3.7.4"
  },
  "orig_nbformat": 4
 },
 "nbformat": 4,
 "nbformat_minor": 2
}
