{
 "cells": [
  {
   "cell_type": "code",
   "execution_count": 76,
   "metadata": {},
   "outputs": [],
   "source": [
    "import numpy as np\n",
    "\n",
    "with open(\"data.txt\", \"r\") as r: \n",
    "    data = [[l for l in p if l != \"\\n\"] for p in r.readlines()]"
   ]
  },
  {
   "cell_type": "code",
   "execution_count": 77,
   "metadata": {},
   "outputs": [
    {
     "data": {
      "text/plain": [
       "3847100"
      ]
     },
     "execution_count": 77,
     "metadata": {},
     "output_type": "execute_result"
    }
   ],
   "source": [
    "# part 1\n",
    "flipped = np.array(list(zip(*data[::-1]))).astype(int) # rotates the lists by 90 degrees\n",
    "gamma_rate = int(\"\".join([str(i) for i in np.where(flipped.mean(axis=1) > 0.5, 1, 0)]), 2)\n",
    "epsilon_rate = int(\"\".join([str(i) for i in np.where(flipped.mean(axis=1) < 0.5, 1, 0)]), 2)\n",
    "gamma_rate * epsilon_rate"
   ]
  },
  {
   "cell_type": "code",
   "execution_count": 78,
   "metadata": {},
   "outputs": [
    {
     "data": {
      "text/plain": [
       "4105235"
      ]
     },
     "execution_count": 78,
     "metadata": {},
     "output_type": "execute_result"
    }
   ],
   "source": [
    "# part 2\n",
    "data = np.array(data).astype(int) # rotates the lists by 90 degrees\n",
    "arrays = data.copy()\n",
    "for i in range(arrays.shape[1]):\n",
    "    if arrays.shape[0] == 1:\n",
    "        break\n",
    "    most_common = np.where(arrays[:,i].mean() >= 0.5, 1, 0)\n",
    "    arrays = arrays[arrays[:,i] == most_common]\n",
    "oxygen_generator_rating = int(\"\".join([str(i) for i in arrays[0]]), 2)\n",
    "arrays2 = data.copy()\n",
    "for i in range(arrays2.shape[1]):\n",
    "    if arrays2.shape[0] == 1:\n",
    "        break\n",
    "    least_common = np.where(arrays2[:,i].mean() < 0.5, 1, 0)\n",
    "    arrays2 = arrays2[arrays2[:,i] == least_common]\n",
    "CO2_scrubber_rating = int(\"\".join([str(i) for i in arrays2[0]]), 2)\n",
    "oxygen_generator_rating * CO2_scrubber_rating"
   ]
  },
  {
   "cell_type": "code",
   "execution_count": null,
   "metadata": {},
   "outputs": [],
   "source": []
  },
  {
   "cell_type": "code",
   "execution_count": null,
   "metadata": {},
   "outputs": [],
   "source": []
  },
  {
   "cell_type": "code",
   "execution_count": null,
   "metadata": {},
   "outputs": [],
   "source": []
  }
 ],
 "metadata": {
  "interpreter": {
   "hash": "958bd200ed2902bb13b7bddf570227b2009cfc246eaf6ee3c2de67e5a93dd42c"
  },
  "kernelspec": {
   "display_name": "Python 3.6.12 64-bit ('maskrcnn': conda)",
   "language": "python",
   "name": "python3"
  },
  "language_info": {
   "codemirror_mode": {
    "name": "ipython",
    "version": 3
   },
   "file_extension": ".py",
   "mimetype": "text/x-python",
   "name": "python",
   "nbconvert_exporter": "python",
   "pygments_lexer": "ipython3",
   "version": "3.6.12"
  },
  "orig_nbformat": 4
 },
 "nbformat": 4,
 "nbformat_minor": 2
}
